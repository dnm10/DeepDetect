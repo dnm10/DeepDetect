{
 "cells": [
  {
   "cell_type": "code",
   "execution_count": null,
   "id": "e41d4dd4",
   "metadata": {},
   "outputs": [
    {
     "name": "stdout",
     "output_type": "stream",
     "text": [
      "✅ kaggle.json moved successfully!\n"
     ]
    }
   ],
   "source": [
    "import os\n",
    "import shutil\n",
    "\n",
    "# Paths\n",
    "project_kaggle = \"../kaggle.json\"   # because notebook is in notebooks/, project root is ..\n",
    "user_kaggle_dir = os.path.expanduser(\"~/.kaggle\")\n",
    "user_kaggle_file = os.path.join(user_kaggle_dir, \"kaggle.json\")\n",
    "\n",
    "# Create ~/.kaggle if it doesn't exist\n",
    "os.makedirs(user_kaggle_dir, exist_ok=True)\n",
    "\n",
    "# Copy kaggle.json from project folder into ~/.kaggle/\n",
    "if os.path.exists(project_kaggle):\n",
    "    shutil.copy(project_kaggle, user_kaggle_file) # copy file\n",
    "    os.chmod(user_kaggle_file, 0o600)  # set file permissions to read/write for user only\n",
    "    print(\"✅ kaggle.json moved successfully!\")\n",
    "else:\n",
    "    print(\"❌ kaggle.json not found, check path.\")"
   ]
  },
  {
   "cell_type": "code",
   "execution_count": 7,
   "id": "052ef2ef",
   "metadata": {},
   "outputs": [
    {
     "name": "stdout",
     "output_type": "stream",
     "text": [
      "Dataset URL: https://www.kaggle.com/datasets/xdxd003/ff-c23\n",
      "License(s): other\n",
      "('Connection broken: IncompleteRead(82806361 bytes read, 17808715735 more expected)', IncompleteRead(82806361 bytes read, 17808715735 more expected))\n",
      "✅ Dataset downloaded and extracted!\n"
     ]
    },
    {
     "name": "stderr",
     "output_type": "stream",
     "text": [
      "'unzip' is not recognized as an internal or external command,\n",
      "operable program or batch file.\n"
     ]
    }
   ],
   "source": [
    "# Download dataset into ../data/raw/\n",
    "!kaggle datasets download -d xdxd003/ff-c23 -p ../data/raw/ --force\n",
    "\n",
    "# Unzip into ../data/raw/images\n",
    "!unzip -q ../data/raw/ff-c23.zip -d ../data/raw/images\n",
    "\n",
    "print(\"✅ Dataset downloaded and extracted!\")\n"
   ]
  },
  {
   "cell_type": "code",
   "execution_count": null,
   "id": "2282a0cf",
   "metadata": {},
   "outputs": [],
   "source": []
  }
 ],
 "metadata": {
  "kernelspec": {
   "display_name": "ddenv (3.12.6)",
   "language": "python",
   "name": "python3"
  },
  "language_info": {
   "codemirror_mode": {
    "name": "ipython",
    "version": 3
   },
   "file_extension": ".py",
   "mimetype": "text/x-python",
   "name": "python",
   "nbconvert_exporter": "python",
   "pygments_lexer": "ipython3",
   "version": "3.12.6"
  }
 },
 "nbformat": 4,
 "nbformat_minor": 5
}
